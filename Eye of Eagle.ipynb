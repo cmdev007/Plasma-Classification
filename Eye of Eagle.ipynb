{
 "cells": [
  {
   "cell_type": "code",
   "execution_count": 1,
   "id": "structural-highway",
   "metadata": {},
   "outputs": [],
   "source": [
    "import os\n",
    "import cv2 \n",
    "import numpy as np \n",
    "import matplotlib.pyplot as plt\n",
    "from time import sleep\n",
    "from IPython import display"
   ]
  },
  {
   "cell_type": "code",
   "execution_count": 2,
   "id": "persistent-cycle",
   "metadata": {},
   "outputs": [
    {
     "name": "stdout",
     "output_type": "stream",
     "text": [
      "/home/cm/mountpts/F/DAIICT/SEM 2/Numerical Methods/Plasma-Classification\r\n"
     ]
    }
   ],
   "source": [
    "!pwd"
   ]
  },
  {
   "cell_type": "code",
   "execution_count": 3,
   "id": "restricted-recognition",
   "metadata": {},
   "outputs": [],
   "source": [
    "DIR=\"/home/cm/mountpts/F/DAIICT/SEM 2/Numerical Methods/Plasma-Classification/NM_PRUJECT_WITH_MS\""
   ]
  },
  {
   "cell_type": "code",
   "execution_count": 4,
   "id": "crucial-baseline",
   "metadata": {
    "scrolled": true
   },
   "outputs": [],
   "source": [
    "all_folds=os.listdir(DIR)\n",
    "all_folds.sort()"
   ]
  },
  {
   "cell_type": "code",
   "execution_count": 5,
   "id": "faced-contrast",
   "metadata": {},
   "outputs": [],
   "source": [
    "LOC=DIR+\"/\"+all_folds[11]"
   ]
  },
  {
   "cell_type": "code",
   "execution_count": 6,
   "id": "radio-image",
   "metadata": {},
   "outputs": [
    {
     "data": {
      "text/plain": [
       "'/home/cm/mountpts/F/DAIICT/SEM 2/Numerical Methods/Plasma-Classification/NM_PRUJECT_WITH_MS/9383'"
      ]
     },
     "execution_count": 6,
     "metadata": {},
     "output_type": "execute_result"
    }
   ],
   "source": [
    "LOC"
   ]
  },
  {
   "cell_type": "code",
   "execution_count": 7,
   "id": "municipal-decision",
   "metadata": {},
   "outputs": [],
   "source": [
    "all_files=os.listdir(LOC)\n",
    "all_files.sort()"
   ]
  },
  {
   "cell_type": "code",
   "execution_count": 30,
   "id": "grateful-positive",
   "metadata": {},
   "outputs": [
    {
     "name": "stdout",
     "output_type": "stream",
     "text": [
      "78.4 ms ± 1.4 ms per loop (mean ± std. dev. of 7 runs, 10 loops each)\n"
     ]
    }
   ],
   "source": [
    "%%timeit\n",
    "norm_row=[]\n",
    "for i in range(img.shape[0]):\n",
    "    buff=0\n",
    "    for j in range(img.shape[1]):\n",
    "        if img[i,j]>0:\n",
    "            buff+=img[i,j]\n",
    "    norm_row.append(buff)\n",
    "max(norm_row)"
   ]
  },
  {
   "cell_type": "code",
   "execution_count": 33,
   "id": "hybrid-prevention",
   "metadata": {},
   "outputs": [
    {
     "name": "stdout",
     "output_type": "stream",
     "text": [
      "117 µs ± 3.35 µs per loop (mean ± std. dev. of 7 runs, 10000 loops each)\n"
     ]
    }
   ],
   "source": [
    "%%timeit\n",
    "vec=np.array([1 for i in range(img.shape[1])])\n",
    "max(img.dot(vec))"
   ]
  },
  {
   "cell_type": "code",
   "execution_count": 34,
   "id": "controlling-fraud",
   "metadata": {},
   "outputs": [
    {
     "data": {
      "text/plain": [
       "921"
      ]
     },
     "execution_count": 34,
     "metadata": {},
     "output_type": "execute_result"
    }
   ],
   "source": [
    "vec=np.array([1 for i in range(img.shape[0])])\n",
    "max(img.T.dot(vec))"
   ]
  },
  {
   "cell_type": "code",
   "execution_count": 54,
   "id": "polar-pasta",
   "metadata": {},
   "outputs": [],
   "source": []
  },
  {
   "cell_type": "code",
   "execution_count": 17,
   "id": "recorded-encyclopedia",
   "metadata": {},
   "outputs": [],
   "source": [
    "LOC=DIR+\"/\"+all_folds[11]\n",
    "all_files=os.listdir(LOC)\n",
    "all_files.sort()"
   ]
  },
  {
   "cell_type": "code",
   "execution_count": 18,
   "id": "centered-miami",
   "metadata": {},
   "outputs": [
    {
     "data": {
      "text/plain": [
       "'/home/cm/mountpts/F/DAIICT/SEM 2/Numerical Methods/Plasma-Classification/NM_PRUJECT_WITH_MS/9383'"
      ]
     },
     "execution_count": 18,
     "metadata": {},
     "output_type": "execute_result"
    }
   ],
   "source": [
    "LOC"
   ]
  },
  {
   "cell_type": "code",
   "execution_count": 8,
   "id": "focal-immune",
   "metadata": {},
   "outputs": [
    {
     "data": {
      "image/png": "[encoded data removed]",
      "text/plain": [
       "<Figure size 432x288 with 1 Axes>"
      ]
     },
     "metadata": {
      "needs_background": "light"
     },
     "output_type": "display_data"
    },
    {
     "name": "stdout",
     "output_type": "stream",
     "text": [
      "Plasma is not touching surface!\n"
     ]
    }
   ],
   "source": [
    "img = cv2.imread(LOC+\"/\"+all_files[10],cv2.IMREAD_GRAYSCALE) \n",
    "vecR=np.array([1 for i in range(img.shape[1])])\n",
    "vecC=np.array([1 for i in range(img.shape[0])])\n",
    "for i in all_files:\n",
    "    img = cv2.imread(LOC+\"/\"+i,cv2.IMREAD_GRAYSCALE)\n",
    "    ret,img = cv2.threshold(img,50,255,cv2.THRESH_TOZERO)\n",
    "    plt.imshow(img,cmap=plt.get_cmap('gray'))\n",
    "    plt.show()\n",
    "    \n",
    "    norm_row=img.dot(vecR)\n",
    "    norm_col=img.T.dot(vecC)\n",
    "    \n",
    "    if max(norm_row)>100 or max(norm_col)>100:\n",
    "        print(\"Plasma is touching surface!\")\n",
    "    else:\n",
    "        print(\"Plasma is not touching surface!\")\n",
    "    display.clear_output(wait=True)"
   ]
  },
  {
   "cell_type": "code",
   "execution_count": 9,
   "id": "antique-capture",
   "metadata": {},
   "outputs": [
    {
     "data": {
      "image/png": "[encoded data removed]",
      "text/plain": [
       "<Figure size 432x288 with 1 Axes>"
      ]
     },
     "metadata": {
      "needs_background": "light"
     },
     "output_type": "display_data"
    },
    {
     "name": "stdout",
     "output_type": "stream",
     "text": [
      "Plasma is touching surface!\n",
      "Plasma is not moving!\n",
      "Plasma's Area: 0.2306976318359375\n"
     ]
    },
    {
     "ename": "KeyboardInterrupt",
     "evalue": "",
     "output_type": "error",
     "traceback": [
      "\u001b[0;31m---------------------------------------------------------------------------\u001b[0m",
      "\u001b[0;31mKeyboardInterrupt\u001b[0m                         Traceback (most recent call last)",
      "\u001b[0;32m<ipython-input-9-1fa1c0e9f445>\u001b[0m in \u001b[0;36m<module>\u001b[0;34m\u001b[0m\n\u001b[1;32m    114\u001b[0m         \u001b[0mimgB\u001b[0m\u001b[0;34m=\u001b[0m\u001b[0mnp\u001b[0m\u001b[0;34m.\u001b[0m\u001b[0mmultiply\u001b[0m\u001b[0;34m(\u001b[0m\u001b[0;34m(\u001b[0m\u001b[0;34m(\u001b[0m\u001b[0;36m1\u001b[0m\u001b[0;34m/\u001b[0m\u001b[0;36m255\u001b[0m\u001b[0;34m)\u001b[0m\u001b[0;34m*\u001b[0m\u001b[0mnp\u001b[0m\u001b[0;34m.\u001b[0m\u001b[0mones\u001b[0m\u001b[0;34m(\u001b[0m\u001b[0mimgB\u001b[0m\u001b[0;34m.\u001b[0m\u001b[0mshape\u001b[0m\u001b[0;34m)\u001b[0m\u001b[0;34m)\u001b[0m\u001b[0;34m,\u001b[0m\u001b[0mimgB\u001b[0m\u001b[0;34m)\u001b[0m\u001b[0;34m\u001b[0m\u001b[0;34m\u001b[0m\u001b[0m\n\u001b[1;32m    115\u001b[0m         \u001b[0mprint\u001b[0m\u001b[0;34m(\u001b[0m\u001b[0;34m\"Plasma's Area:\"\u001b[0m\u001b[0;34m,\u001b[0m\u001b[0msum\u001b[0m\u001b[0;34m(\u001b[0m\u001b[0msum\u001b[0m\u001b[0;34m(\u001b[0m\u001b[0mimgB\u001b[0m\u001b[0;34m)\u001b[0m\u001b[0;34m)\u001b[0m\u001b[0;34m/\u001b[0m\u001b[0mtotalPix\u001b[0m\u001b[0;34m)\u001b[0m\u001b[0;34m\u001b[0m\u001b[0;34m\u001b[0m\u001b[0m\n\u001b[0;32m--> 116\u001b[0;31m         \u001b[0msleep\u001b[0m\u001b[0;34m(\u001b[0m\u001b[0;36m1\u001b[0m\u001b[0;34m)\u001b[0m\u001b[0;34m\u001b[0m\u001b[0;34m\u001b[0m\u001b[0m\n\u001b[0m\u001b[1;32m    117\u001b[0m \u001b[0;34m\u001b[0m\u001b[0m\n\u001b[1;32m    118\u001b[0m     \u001b[0;32melse\u001b[0m\u001b[0;34m:\u001b[0m\u001b[0;34m\u001b[0m\u001b[0;34m\u001b[0m\u001b[0m\n",
      "\u001b[0;31mKeyboardInterrupt\u001b[0m: "
     ]
    }
   ],
   "source": [
    "LOC=DIR+\"/\"+all_folds[11]\n",
    "all_files=os.listdir(LOC)\n",
    "all_files.sort()\n",
    "\n",
    "img = cv2.imread(LOC+\"/\"+all_files[0],cv2.IMREAD_GRAYSCALE)\n",
    "totalPix=img.shape[0]*img.shape[1]\n",
    "buff_row=[img.shape[0]/2,img.shape[0]/2]\n",
    "buff_col=[img.shape[1]/2,img.shape[1]/2]\n",
    "vecR=np.array([1 for i in range(img.shape[1])])\n",
    "vecC=np.array([1 for i in range(img.shape[0])])\n",
    "for i in all_files:\n",
    "    DOWNDIR=False\n",
    "    RIGHTDIR=False\n",
    "    UP=0\n",
    "    DOWN=0\n",
    "    LEFT=0\n",
    "    RIGHT=0\n",
    "    img = cv2.imread(LOC+\"/\"+i,cv2.IMREAD_GRAYSCALE)\n",
    "    ret,img = cv2.threshold(img,50,255,cv2.THRESH_TOZERO)\n",
    "    ret,imgB = cv2.threshold(img,50,255,cv2.THRESH_BINARY)\n",
    "    plt.imshow(img,cmap=plt.get_cmap('gray'))\n",
    "    plt.show()\n",
    "\n",
    "    norm_row=img.dot(vecR)\n",
    "    norm_col=img.T.dot(vecC)\n",
    "\n",
    "\n",
    "    if max(norm_row)>100 or max(norm_col)>100:\n",
    "        print(\"Plasma is touching surface!\")\n",
    "        for j in range(norm_row.shape[0]):\n",
    "            if not DOWNDIR:\n",
    "                if norm_row[j]!=0:\n",
    "                    if j<buff_row[0]:\n",
    "                        UP+=1\n",
    "                    elif j==buff_row[0]:\n",
    "                        pass\n",
    "                    elif j>buff_row[0]:\n",
    "                        UP-=1\n",
    "                    buff_row[0]=j\n",
    "                    DOWNDIR=True\n",
    "            if DOWNDIR:\n",
    "                if norm_row[j]==0:\n",
    "                    if j>buff_row[1]:\n",
    "                        DOWN+=1\n",
    "                    elif j==buff_row[1]:\n",
    "                        pass\n",
    "                    elif j<buff_row[1]:\n",
    "                        DOWN-=1\n",
    "                    buff_row[1]=j\n",
    "                    break\n",
    "        for j in range(norm_col.shape[0]):\n",
    "            if not RIGHTDIR:\n",
    "                if norm_col[j]!=0:\n",
    "                    if j<buff_col[0]:\n",
    "                        LEFT+=1\n",
    "                    elif j==buff_col[0]:\n",
    "                        pass\n",
    "                    elif j>buff_row[0]:\n",
    "                        LEFT-=1\n",
    "                    buff_col[0]=j\n",
    "                    RIGHTDIR=True\n",
    "            if RIGHTDIR:\n",
    "                if norm_col[j]==0:\n",
    "                    if j>buff_col[1]:\n",
    "                        RIGHT+=1\n",
    "                    elif j==buff_col[1]:\n",
    "                        pass\n",
    "                    elif j<buff_row[1]:\n",
    "                        RIGHT-=1\n",
    "                    buff_col[1]=j\n",
    "                    break\n",
    "        if (UP+DOWN+LEFT+RIGHT)==0:\n",
    "            print(\"Plasma is not moving!\")\n",
    "        else:\n",
    "            if (UP>0) and (DOWN>0) and (LEFT>0) and (RIGHT>0):\n",
    "                print(\"Plasma is Expanding!\")\n",
    "            elif (UP<0) and (DOWN<0) and (LEFT<0) and (RIGHT<0):\n",
    "                print(\"Plasma is Contracting!\")\n",
    "            else:\n",
    "                if (UP>0) and (DOWN>0):\n",
    "                    print(\"Plasma is expanding vertically!\")\n",
    "                elif ((UP>0) and (DOWN==0)):\n",
    "                    print(\"Plasma is expanding in Upwards direction!\")\n",
    "                elif ((UP==0) and (DOWN>0)):\n",
    "                    print(\"Plasma is expanding in Downwards direction!\")\n",
    "                elif ((UP<0) and (DOWN==0)):\n",
    "                    print(\"Plasma is contracting in Upwards direction!\")\n",
    "                elif ((UP==0) and (DOWN<0)):\n",
    "                    print(\"Plasma is contracting in Downwards direction!\")\n",
    "                elif (UP<0) and (DOWN<0):\n",
    "                    print(\"Plasma is contracting vertically!\")\n",
    "                elif (UP>0) and (DOWN<=0):\n",
    "                    print(\"Plasma is moving UP!\")\n",
    "                elif (UP<=0) and (DOWN>0):\n",
    "                    print(\"Plasma is moving DOWN!\")\n",
    "\n",
    "                if (LEFT>0) and (RIGHT>0):\n",
    "                    print(\"Plasma is expanding horizontally!\")\n",
    "                elif ((LEFT>0) and (RIGHT==0)):\n",
    "                    print(\"Plasma is expanding in LEFT direction!\")\n",
    "                elif ((LEFT==0) and (RIGHT>0)):\n",
    "                    print(\"Plasma is expanding in RIGHT direction!\")\n",
    "                elif ((LEFT<0) and (RIGHT==0)):\n",
    "                    print(\"Plasma is contracting in LEFT direction!\")\n",
    "                elif ((LEFT==0) and (RIGHT<0)):\n",
    "                    print(\"Plasma is contracting in RIGHT direction!\")\n",
    "                elif (LEFT<0) and (RIGHT<0):\n",
    "                    print(\"Plasma is contracting horizontally!\")\n",
    "                elif (LEFT>0) and (RIGHT<=0):\n",
    "                    print(\"Plasma is moving LEFT!\")\n",
    "                elif (LEFT<=0) and (RIGHT>0):\n",
    "                    print(\"Plasma is moving RIGHT!\")\n",
    "\n",
    "        imgB=np.multiply(((1/255)*np.ones(imgB.shape)),imgB)\n",
    "        print(\"Plasma's Area:\",sum(sum(imgB))/totalPix)\n",
    "        sleep(1)\n",
    "        \n",
    "    else:\n",
    "        print(\"Plasma is not touching surface!\")\n",
    "    display.clear_output(wait=True)"
   ]
  },
  {
   "cell_type": "code",
   "execution_count": 17,
   "id": "available-heating",
   "metadata": {},
   "outputs": [],
   "source": [
    "from PIL import Image\n",
    "img = Image.open(LOC+\"/\"+all_files[-1]).convert('LA')\n",
    "# img.save('greyscale.png')"
   ]
  },
  {
   "cell_type": "code",
   "execution_count": 12,
   "id": "endangered-yukon",
   "metadata": {},
   "outputs": [
    {
     "data": {
      "image/png": "[encoded data removed]",
      "text/plain": [
       "<PIL.Image.Image image mode=LA size=256x256 at 0x7F52C9717820>"
      ]
     },
     "execution_count": 12,
     "metadata": {},
     "output_type": "execute_result"
    }
   ],
   "source": [
    "img"
   ]
  }
 ],
 "metadata": {
  "kernelspec": {
   "display_name": "Python 3",
   "language": "python",
   "name": "python3"
  },
  "language_info": {
   "codemirror_mode": {
    "name": "ipython",
    "version": 3
   },
   "file_extension": ".py",
   "mimetype": "text/x-python",
   "name": "python",
   "nbconvert_exporter": "python",
   "pygments_lexer": "ipython3",
   "version": "3.8.8"
  }
 },
 "nbformat": 4,
 "nbformat_minor": 5
}
